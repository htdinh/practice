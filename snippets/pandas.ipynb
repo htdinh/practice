{
 "cells": [
  {
   "cell_type": "markdown",
   "metadata": {},
   "source": [
    "# Table of content\n",
    "1. [CSV File Input-Output](#CSV File Input-Output)\n",
    "2. [Overview of dataframe](#Overview of dataframe)\n",
    "3. [Iterate through DataFrame](#Iterate through DataFrame)\n",
    "4. [Plot histogram](#Plot histogram)"
   ]
  },
  {
   "cell_type": "code",
   "execution_count": 1,
   "metadata": {
    "collapsed": true
   },
   "outputs": [],
   "source": [
    "import pandas as pd"
   ]
  },
  {
   "cell_type": "markdown",
   "metadata": {},
   "source": [
    "# CSV File Input-Output"
   ]
  },
  {
   "cell_type": "markdown",
   "metadata": {},
   "source": [
    "Sample data from [Dataset Publishing Language](https://developers.google.com/public-data/docs/canonical/countries_csv). Copy them into a Calc sheet (Linux) or Excel (Windows) and save the file as CSV format. "
   ]
  },
  {
   "cell_type": "markdown",
   "metadata": {},
   "source": [
    "### [Read CSV](https://pandas.pydata.org/pandas-docs/stable/generated/pandas.read_csv.html)\n",
    "Important parameters\n",
    "* __sep__: Delimiter, separator\n",
    "* __header__: Row number(s) to use as the column names, and the start of the data. First row = 0. \n",
    "* __names__: List of column names to use. If file contains no header row, then you should explicitly pass header=None "
   ]
  },
  {
   "cell_type": "code",
   "execution_count": 2,
   "metadata": {},
   "outputs": [
    {
     "data": {
      "text/html": [
       "<div>\n",
       "<style>\n",
       "    .dataframe thead tr:only-child th {\n",
       "        text-align: right;\n",
       "    }\n",
       "\n",
       "    .dataframe thead th {\n",
       "        text-align: left;\n",
       "    }\n",
       "\n",
       "    .dataframe tbody tr th {\n",
       "        vertical-align: top;\n",
       "    }\n",
       "</style>\n",
       "<table border=\"1\" class=\"dataframe\">\n",
       "  <thead>\n",
       "    <tr style=\"text-align: right;\">\n",
       "      <th></th>\n",
       "      <th>country</th>\n",
       "      <th>latitude</th>\n",
       "      <th>longitude</th>\n",
       "      <th>name</th>\n",
       "    </tr>\n",
       "  </thead>\n",
       "  <tbody>\n",
       "    <tr>\n",
       "      <th>0</th>\n",
       "      <td>AD</td>\n",
       "      <td>42.546245</td>\n",
       "      <td>1.601554</td>\n",
       "      <td>Andorra</td>\n",
       "    </tr>\n",
       "    <tr>\n",
       "      <th>1</th>\n",
       "      <td>AE</td>\n",
       "      <td>23.424076</td>\n",
       "      <td>53.847818</td>\n",
       "      <td>United Arab Emirates</td>\n",
       "    </tr>\n",
       "    <tr>\n",
       "      <th>2</th>\n",
       "      <td>AF</td>\n",
       "      <td>33.939110</td>\n",
       "      <td>67.709953</td>\n",
       "      <td>Afghanistan</td>\n",
       "    </tr>\n",
       "    <tr>\n",
       "      <th>3</th>\n",
       "      <td>AG</td>\n",
       "      <td>17.060816</td>\n",
       "      <td>-61.796428</td>\n",
       "      <td>Antigua and Barbuda</td>\n",
       "    </tr>\n",
       "    <tr>\n",
       "      <th>4</th>\n",
       "      <td>AI</td>\n",
       "      <td>18.220554</td>\n",
       "      <td>-63.068615</td>\n",
       "      <td>Anguilla</td>\n",
       "    </tr>\n",
       "  </tbody>\n",
       "</table>\n",
       "</div>"
      ],
      "text/plain": [
       "  country   latitude  longitude                  name\n",
       "0      AD  42.546245   1.601554               Andorra\n",
       "1      AE  23.424076  53.847818  United Arab Emirates\n",
       "2      AF  33.939110  67.709953           Afghanistan\n",
       "3      AG  17.060816 -61.796428   Antigua and Barbuda\n",
       "4      AI  18.220554 -63.068615              Anguilla"
      ]
     },
     "execution_count": 2,
     "metadata": {},
     "output_type": "execute_result"
    }
   ],
   "source": [
    "df = pd.read_csv(filepath_or_buffer='countries.csv',\n",
    "                 header=1,  \n",
    "                 sep=',', \n",
    "                 na_values = '',  # To avoild default read setting that convert 'NA' to nan.\n",
    "                 keep_default_na = False,\n",
    "                 )\n",
    "df.head(5)"
   ]
  },
  {
   "cell_type": "markdown",
   "metadata": {},
   "source": [
    "### Overview information about the DataFrame (richer info than df.dtypes)"
   ]
  },
  {
   "cell_type": "code",
   "execution_count": 3,
   "metadata": {},
   "outputs": [
    {
     "name": "stdout",
     "output_type": "stream",
     "text": [
      "<class 'pandas.core.frame.DataFrame'>\n",
      "RangeIndex: 245 entries, 0 to 244\n",
      "Data columns (total 4 columns):\n",
      "country      245 non-null object\n",
      "latitude     244 non-null float64\n",
      "longitude    244 non-null float64\n",
      "name         245 non-null object\n",
      "dtypes: float64(2), object(2)\n",
      "memory usage: 7.7+ KB\n"
     ]
    }
   ],
   "source": [
    "df.info()"
   ]
  },
  {
   "cell_type": "code",
   "execution_count": 4,
   "metadata": {},
   "outputs": [
    {
     "data": {
      "text/html": [
       "<div>\n",
       "<style>\n",
       "    .dataframe thead tr:only-child th {\n",
       "        text-align: right;\n",
       "    }\n",
       "\n",
       "    .dataframe thead th {\n",
       "        text-align: left;\n",
       "    }\n",
       "\n",
       "    .dataframe tbody tr th {\n",
       "        vertical-align: top;\n",
       "    }\n",
       "</style>\n",
       "<table border=\"1\" class=\"dataframe\">\n",
       "  <thead>\n",
       "    <tr style=\"text-align: right;\">\n",
       "      <th></th>\n",
       "      <th>country</th>\n",
       "      <th>latitude</th>\n",
       "      <th>longitude</th>\n",
       "      <th>name</th>\n",
       "    </tr>\n",
       "  </thead>\n",
       "  <tbody>\n",
       "    <tr>\n",
       "      <th>0</th>\n",
       "      <td>AD</td>\n",
       "      <td>42.546245</td>\n",
       "      <td>1.601554</td>\n",
       "      <td>Andorra</td>\n",
       "    </tr>\n",
       "    <tr>\n",
       "      <th>1</th>\n",
       "      <td>AE</td>\n",
       "      <td>23.424076</td>\n",
       "      <td>53.847818</td>\n",
       "      <td>United Arab Emirates</td>\n",
       "    </tr>\n",
       "    <tr>\n",
       "      <th>2</th>\n",
       "      <td>AF</td>\n",
       "      <td>33.939110</td>\n",
       "      <td>67.709953</td>\n",
       "      <td>Afghanistan</td>\n",
       "    </tr>\n",
       "    <tr>\n",
       "      <th>3</th>\n",
       "      <td>AG</td>\n",
       "      <td>17.060816</td>\n",
       "      <td>-61.796428</td>\n",
       "      <td>Antigua and Barbuda</td>\n",
       "    </tr>\n",
       "    <tr>\n",
       "      <th>4</th>\n",
       "      <td>AI</td>\n",
       "      <td>18.220554</td>\n",
       "      <td>-63.068615</td>\n",
       "      <td>Anguilla</td>\n",
       "    </tr>\n",
       "  </tbody>\n",
       "</table>\n",
       "</div>"
      ],
      "text/plain": [
       "  country   latitude  longitude                  name\n",
       "0      AD  42.546245   1.601554               Andorra\n",
       "1      AE  23.424076  53.847818  United Arab Emirates\n",
       "2      AF  33.939110  67.709953           Afghanistan\n",
       "3      AG  17.060816 -61.796428   Antigua and Barbuda\n",
       "4      AI  18.220554 -63.068615              Anguilla"
      ]
     },
     "execution_count": 4,
     "metadata": {},
     "output_type": "execute_result"
    }
   ],
   "source": [
    "df.head()"
   ]
  },
  {
   "cell_type": "code",
   "execution_count": 5,
   "metadata": {},
   "outputs": [
    {
     "data": {
      "text/html": [
       "<div>\n",
       "<style>\n",
       "    .dataframe thead tr:only-child th {\n",
       "        text-align: right;\n",
       "    }\n",
       "\n",
       "    .dataframe thead th {\n",
       "        text-align: left;\n",
       "    }\n",
       "\n",
       "    .dataframe tbody tr th {\n",
       "        vertical-align: top;\n",
       "    }\n",
       "</style>\n",
       "<table border=\"1\" class=\"dataframe\">\n",
       "  <thead>\n",
       "    <tr style=\"text-align: right;\">\n",
       "      <th></th>\n",
       "      <th>country</th>\n",
       "      <th>latitude</th>\n",
       "      <th>longitude</th>\n",
       "      <th>name</th>\n",
       "    </tr>\n",
       "  </thead>\n",
       "  <tbody>\n",
       "    <tr>\n",
       "      <th>226</th>\n",
       "      <td>UM</td>\n",
       "      <td>NaN</td>\n",
       "      <td>NaN</td>\n",
       "      <td>U.S. Minor Outlying Islands</td>\n",
       "    </tr>\n",
       "  </tbody>\n",
       "</table>\n",
       "</div>"
      ],
      "text/plain": [
       "    country  latitude  longitude                         name\n",
       "226      UM       NaN        NaN  U.S. Minor Outlying Islands"
      ]
     },
     "execution_count": 5,
     "metadata": {},
     "output_type": "execute_result"
    }
   ],
   "source": [
    "df[df[\"longitude\"].isnull()]"
   ]
  },
  {
   "cell_type": "code",
   "execution_count": 6,
   "metadata": {
    "collapsed": true
   },
   "outputs": [],
   "source": [
    "for lat in df['latitude']:\n",
    "    try:\n",
    "        float(lat)\n",
    "    except:\n",
    "        print(\"Error\", lat, type(lat), len(lat))"
   ]
  },
  {
   "cell_type": "markdown",
   "metadata": {},
   "source": [
    "* An interesting observation is any string `NA` would be default read as NaN ([Python Reference](https://pandas.pydata.org/pandas-docs/stable/generated/pandas.read_csv.html)). To see the difference, remove the `na_values` setting above and we will see the value NA in row 156 is converted to `nan`. "
   ]
  },
  {
   "cell_type": "code",
   "execution_count": 7,
   "metadata": {},
   "outputs": [
    {
     "data": {
      "text/plain": [
       "country           NA\n",
       "latitude    -22.9576\n",
       "longitude    18.4904\n",
       "name         Namibia\n",
       "Name: 156, dtype: object"
      ]
     },
     "execution_count": 7,
     "metadata": {},
     "output_type": "execute_result"
    }
   ],
   "source": [
    "df.iloc[156]"
   ]
  },
  {
   "cell_type": "markdown",
   "metadata": {},
   "source": [
    "### [Write to CSV](https://pandas.pydata.org/pandas-docs/stable/generated/pandas.DataFrame.to_csv.html)\n",
    "Important parameters\n",
    "* __index__: Default = True. Set to False if index is not needed as a separate column. "
   ]
  },
  {
   "cell_type": "code",
   "execution_count": 8,
   "metadata": {
    "collapsed": true
   },
   "outputs": [],
   "source": [
    "df.to_csv(path_or_buf='countries_copy.csv', \n",
    "          index=False)"
   ]
  },
  {
   "cell_type": "markdown",
   "metadata": {},
   "source": [
    "# Iterate through DataFrame \n",
    "by [_itertuples()_](https://pandas.pydata.org/pandas-docs/stable/generated/pandas.DataFrame.itertuples.html)"
   ]
  },
  {
   "cell_type": "code",
   "execution_count": 9,
   "metadata": {},
   "outputs": [
    {
     "name": "stdout",
     "output_type": "stream",
     "text": [
      "AD Andorra\n",
      "AE United Arab Emirates\n"
     ]
    }
   ],
   "source": [
    "for row in df.head(2).itertuples():\n",
    "    print(row.country, row.name)"
   ]
  },
  {
   "cell_type": "markdown",
   "metadata": {},
   "source": [
    "# Overview of dataframe \n",
    "* __head__ and __tail__"
   ]
  },
  {
   "cell_type": "code",
   "execution_count": 10,
   "metadata": {},
   "outputs": [
    {
     "data": {
      "text/html": [
       "<div>\n",
       "<style>\n",
       "    .dataframe thead tr:only-child th {\n",
       "        text-align: right;\n",
       "    }\n",
       "\n",
       "    .dataframe thead th {\n",
       "        text-align: left;\n",
       "    }\n",
       "\n",
       "    .dataframe tbody tr th {\n",
       "        vertical-align: top;\n",
       "    }\n",
       "</style>\n",
       "<table border=\"1\" class=\"dataframe\">\n",
       "  <thead>\n",
       "    <tr style=\"text-align: right;\">\n",
       "      <th></th>\n",
       "      <th>country</th>\n",
       "      <th>latitude</th>\n",
       "      <th>longitude</th>\n",
       "      <th>name</th>\n",
       "    </tr>\n",
       "  </thead>\n",
       "  <tbody>\n",
       "    <tr>\n",
       "      <th>0</th>\n",
       "      <td>AD</td>\n",
       "      <td>42.546245</td>\n",
       "      <td>1.601554</td>\n",
       "      <td>Andorra</td>\n",
       "    </tr>\n",
       "    <tr>\n",
       "      <th>1</th>\n",
       "      <td>AE</td>\n",
       "      <td>23.424076</td>\n",
       "      <td>53.847818</td>\n",
       "      <td>United Arab Emirates</td>\n",
       "    </tr>\n",
       "  </tbody>\n",
       "</table>\n",
       "</div>"
      ],
      "text/plain": [
       "  country   latitude  longitude                  name\n",
       "0      AD  42.546245   1.601554               Andorra\n",
       "1      AE  23.424076  53.847818  United Arab Emirates"
      ]
     },
     "execution_count": 10,
     "metadata": {},
     "output_type": "execute_result"
    }
   ],
   "source": [
    "df.head(2)"
   ]
  },
  {
   "cell_type": "code",
   "execution_count": 11,
   "metadata": {},
   "outputs": [
    {
     "data": {
      "text/html": [
       "<div>\n",
       "<style>\n",
       "    .dataframe thead tr:only-child th {\n",
       "        text-align: right;\n",
       "    }\n",
       "\n",
       "    .dataframe thead th {\n",
       "        text-align: left;\n",
       "    }\n",
       "\n",
       "    .dataframe tbody tr th {\n",
       "        vertical-align: top;\n",
       "    }\n",
       "</style>\n",
       "<table border=\"1\" class=\"dataframe\">\n",
       "  <thead>\n",
       "    <tr style=\"text-align: right;\">\n",
       "      <th></th>\n",
       "      <th>country</th>\n",
       "      <th>latitude</th>\n",
       "      <th>longitude</th>\n",
       "      <th>name</th>\n",
       "    </tr>\n",
       "  </thead>\n",
       "  <tbody>\n",
       "    <tr>\n",
       "      <th>243</th>\n",
       "      <td>ZM</td>\n",
       "      <td>-13.133897</td>\n",
       "      <td>27.849332</td>\n",
       "      <td>Zambia</td>\n",
       "    </tr>\n",
       "    <tr>\n",
       "      <th>244</th>\n",
       "      <td>ZW</td>\n",
       "      <td>-19.015438</td>\n",
       "      <td>29.154857</td>\n",
       "      <td>Zimbabwe</td>\n",
       "    </tr>\n",
       "  </tbody>\n",
       "</table>\n",
       "</div>"
      ],
      "text/plain": [
       "    country   latitude  longitude      name\n",
       "243      ZM -13.133897  27.849332    Zambia\n",
       "244      ZW -19.015438  29.154857  Zimbabwe"
      ]
     },
     "execution_count": 11,
     "metadata": {},
     "output_type": "execute_result"
    }
   ],
   "source": [
    "df.tail(2)"
   ]
  },
  {
   "cell_type": "markdown",
   "metadata": {},
   "source": [
    "* Describe numeric fields (in this case doesn't make much sense to average latitude)"
   ]
  },
  {
   "cell_type": "code",
   "execution_count": 12,
   "metadata": {},
   "outputs": [
    {
     "data": {
      "text/html": [
       "<div>\n",
       "<style>\n",
       "    .dataframe thead tr:only-child th {\n",
       "        text-align: right;\n",
       "    }\n",
       "\n",
       "    .dataframe thead th {\n",
       "        text-align: left;\n",
       "    }\n",
       "\n",
       "    .dataframe tbody tr th {\n",
       "        vertical-align: top;\n",
       "    }\n",
       "</style>\n",
       "<table border=\"1\" class=\"dataframe\">\n",
       "  <thead>\n",
       "    <tr style=\"text-align: right;\">\n",
       "      <th></th>\n",
       "      <th>latitude</th>\n",
       "      <th>longitude</th>\n",
       "    </tr>\n",
       "  </thead>\n",
       "  <tbody>\n",
       "    <tr>\n",
       "      <th>count</th>\n",
       "      <td>244.000000</td>\n",
       "      <td>244.000000</td>\n",
       "    </tr>\n",
       "    <tr>\n",
       "      <th>mean</th>\n",
       "      <td>16.253109</td>\n",
       "      <td>13.294814</td>\n",
       "    </tr>\n",
       "    <tr>\n",
       "      <th>std</th>\n",
       "      <td>27.031206</td>\n",
       "      <td>73.976477</td>\n",
       "    </tr>\n",
       "    <tr>\n",
       "      <th>min</th>\n",
       "      <td>-75.250973</td>\n",
       "      <td>-177.156097</td>\n",
       "    </tr>\n",
       "    <tr>\n",
       "      <th>25%</th>\n",
       "      <td>-0.301710</td>\n",
       "      <td>-38.092008</td>\n",
       "    </tr>\n",
       "    <tr>\n",
       "      <th>50%</th>\n",
       "      <td>16.869235</td>\n",
       "      <td>18.182149</td>\n",
       "    </tr>\n",
       "    <tr>\n",
       "      <th>75%</th>\n",
       "      <td>38.965238</td>\n",
       "      <td>49.046734</td>\n",
       "    </tr>\n",
       "    <tr>\n",
       "      <th>max</th>\n",
       "      <td>77.553604</td>\n",
       "      <td>179.414413</td>\n",
       "    </tr>\n",
       "  </tbody>\n",
       "</table>\n",
       "</div>"
      ],
      "text/plain": [
       "         latitude   longitude\n",
       "count  244.000000  244.000000\n",
       "mean    16.253109   13.294814\n",
       "std     27.031206   73.976477\n",
       "min    -75.250973 -177.156097\n",
       "25%     -0.301710  -38.092008\n",
       "50%     16.869235   18.182149\n",
       "75%     38.965238   49.046734\n",
       "max     77.553604  179.414413"
      ]
     },
     "execution_count": 12,
     "metadata": {},
     "output_type": "execute_result"
    }
   ],
   "source": [
    "df.describe()"
   ]
  },
  {
   "cell_type": "code",
   "execution_count": 13,
   "metadata": {},
   "outputs": [
    {
     "data": {
      "text/plain": [
       "country       object\n",
       "latitude     float64\n",
       "longitude    float64\n",
       "name          object\n",
       "dtype: object"
      ]
     },
     "execution_count": 13,
     "metadata": {},
     "output_type": "execute_result"
    }
   ],
   "source": [
    "df.dtypes"
   ]
  },
  {
   "cell_type": "markdown",
   "metadata": {
    "collapsed": true
   },
   "source": [
    "# [Plot histogram](https://pandas.pydata.org/pandas-docs/stable/generated/pandas.DataFrame.hist.html)"
   ]
  },
  {
   "cell_type": "code",
   "execution_count": 14,
   "metadata": {},
   "outputs": [
    {
     "data": {
      "text/plain": [
       "array([[<matplotlib.axes._subplots.AxesSubplot object at 0x113a8b208>,\n",
       "        <matplotlib.axes._subplots.AxesSubplot object at 0x113b109b0>]], dtype=object)"
      ]
     },
     "execution_count": 14,
     "metadata": {},
     "output_type": "execute_result"
    },
    {
     "data": {
      "image/png": "[encoded data removed]",
      "text/plain": [
       "<matplotlib.figure.Figure at 0x11327b048>"
      ]
     },
     "metadata": {},
     "output_type": "display_data"
    }
   ],
   "source": [
    "%matplotlib inline\n",
    "df.hist(column=['latitude', 'longitude'], \n",
    "       sharey=True,\n",
    "       bins= 10,\n",
    "       )"
   ]
  },
  {
   "cell_type": "markdown",
   "metadata": {},
   "source": [
    "Some observations from the plot\n",
    "* More countries in northern hemisphere (latitude > 0) than in southern spheres\n",
    "* Many more countries are close to 0 longitude (Greenwich zone) (Europe, Africa, ...)"
   ]
  },
  {
   "cell_type": "markdown",
   "metadata": {
    "collapsed": true
   },
   "source": [
    "# Lambda function on multiple columns\n",
    "[StackOverflow](https://stackoverflow.com/questions/16353729/pandas-how-to-use-apply-function-to-multiple-columns)"
   ]
  },
  {
   "cell_type": "code",
   "execution_count": 15,
   "metadata": {},
   "outputs": [
    {
     "data": {
      "text/html": [
       "<div>\n",
       "<style>\n",
       "    .dataframe thead tr:only-child th {\n",
       "        text-align: right;\n",
       "    }\n",
       "\n",
       "    .dataframe thead th {\n",
       "        text-align: left;\n",
       "    }\n",
       "\n",
       "    .dataframe tbody tr th {\n",
       "        vertical-align: top;\n",
       "    }\n",
       "</style>\n",
       "<table border=\"1\" class=\"dataframe\">\n",
       "  <thead>\n",
       "    <tr style=\"text-align: right;\">\n",
       "      <th></th>\n",
       "      <th>country</th>\n",
       "      <th>latitude</th>\n",
       "      <th>longitude</th>\n",
       "      <th>name</th>\n",
       "      <th>coordinate</th>\n",
       "    </tr>\n",
       "  </thead>\n",
       "  <tbody>\n",
       "    <tr>\n",
       "      <th>0</th>\n",
       "      <td>AD</td>\n",
       "      <td>42.546245</td>\n",
       "      <td>1.601554</td>\n",
       "      <td>Andorra</td>\n",
       "      <td>(42.546245, 1.6015540000000001)</td>\n",
       "    </tr>\n",
       "    <tr>\n",
       "      <th>1</th>\n",
       "      <td>AE</td>\n",
       "      <td>23.424076</td>\n",
       "      <td>53.847818</td>\n",
       "      <td>United Arab Emirates</td>\n",
       "      <td>(23.424076, 53.847818000000004)</td>\n",
       "    </tr>\n",
       "  </tbody>\n",
       "</table>\n",
       "</div>"
      ],
      "text/plain": [
       "  country   latitude  longitude                  name  \\\n",
       "0      AD  42.546245   1.601554               Andorra   \n",
       "1      AE  23.424076  53.847818  United Arab Emirates   \n",
       "\n",
       "                        coordinate  \n",
       "0  (42.546245, 1.6015540000000001)  \n",
       "1  (23.424076, 53.847818000000004)  "
      ]
     },
     "execution_count": 15,
     "metadata": {},
     "output_type": "execute_result"
    }
   ],
   "source": [
    "combine = lambda row: (row['latitude'], row['longitude'])\n",
    "df['coordinate'] = df.apply(combine, axis=1)\n",
    "df.head(2)"
   ]
  },
  {
   "cell_type": "markdown",
   "metadata": {},
   "source": [
    "# Making a dictionary from 2 rows in DataFrame"
   ]
  },
  {
   "cell_type": "code",
   "execution_count": 16,
   "metadata": {},
   "outputs": [
    {
     "data": {
      "text/plain": [
       "{'AD': 'Andorra',\n",
       " 'AE': 'United Arab Emirates',\n",
       " 'AF': 'Afghanistan',\n",
       " 'AG': 'Antigua and Barbuda',\n",
       " 'AI': 'Anguilla',\n",
       " 'AL': 'Albania',\n",
       " 'AM': 'Armenia',\n",
       " 'AN': 'Netherlands Antilles',\n",
       " 'AO': 'Angola',\n",
       " 'AQ': 'Antarctica',\n",
       " 'AR': 'Argentina',\n",
       " 'AS': 'American Samoa',\n",
       " 'AT': 'Austria',\n",
       " 'AU': 'Australia',\n",
       " 'AW': 'Aruba',\n",
       " 'AZ': 'Azerbaijan',\n",
       " 'BA': 'Bosnia and Herzegovina',\n",
       " 'BB': 'Barbados',\n",
       " 'BD': 'Bangladesh',\n",
       " 'BE': 'Belgium',\n",
       " 'BF': 'Burkina Faso',\n",
       " 'BG': 'Bulgaria',\n",
       " 'BH': 'Bahrain',\n",
       " 'BI': 'Burundi',\n",
       " 'BJ': 'Benin',\n",
       " 'BM': 'Bermuda',\n",
       " 'BN': 'Brunei',\n",
       " 'BO': 'Bolivia',\n",
       " 'BR': 'Brazil',\n",
       " 'BS': 'Bahamas',\n",
       " 'BT': 'Bhutan',\n",
       " 'BV': 'Bouvet Island',\n",
       " 'BW': 'Botswana',\n",
       " 'BY': 'Belarus',\n",
       " 'BZ': 'Belize',\n",
       " 'CA': 'Canada',\n",
       " 'CC': 'Cocos [Keeling] Islands',\n",
       " 'CD': 'Congo [DRC]',\n",
       " 'CF': 'Central African Republic',\n",
       " 'CG': 'Congo [Republic]',\n",
       " 'CH': 'Switzerland',\n",
       " 'CI': \"Côte d'Ivoire\",\n",
       " 'CK': 'Cook Islands',\n",
       " 'CL': 'Chile',\n",
       " 'CM': 'Cameroon',\n",
       " 'CN': 'China',\n",
       " 'CO': 'Colombia',\n",
       " 'CR': 'Costa Rica',\n",
       " 'CU': 'Cuba',\n",
       " 'CV': 'Cape Verde',\n",
       " 'CX': 'Christmas Island',\n",
       " 'CY': 'Cyprus',\n",
       " 'CZ': 'Czech Republic',\n",
       " 'DE': 'Germany',\n",
       " 'DJ': 'Djibouti',\n",
       " 'DK': 'Denmark',\n",
       " 'DM': 'Dominica',\n",
       " 'DO': 'Dominican Republic',\n",
       " 'DZ': 'Algeria',\n",
       " 'EC': 'Ecuador',\n",
       " 'EE': 'Estonia',\n",
       " 'EG': 'Egypt',\n",
       " 'EH': 'Western Sahara',\n",
       " 'ER': 'Eritrea',\n",
       " 'ES': 'Spain',\n",
       " 'ET': 'Ethiopia',\n",
       " 'FI': 'Finland',\n",
       " 'FJ': 'Fiji',\n",
       " 'FK': 'Falkland Islands [Islas Malvinas]',\n",
       " 'FM': 'Micronesia',\n",
       " 'FO': 'Faroe Islands',\n",
       " 'FR': 'France',\n",
       " 'GA': 'Gabon',\n",
       " 'GB': 'United Kingdom',\n",
       " 'GD': 'Grenada',\n",
       " 'GE': 'Georgia',\n",
       " 'GF': 'French Guiana',\n",
       " 'GG': 'Guernsey',\n",
       " 'GH': 'Ghana',\n",
       " 'GI': 'Gibraltar',\n",
       " 'GL': 'Greenland',\n",
       " 'GM': 'Gambia',\n",
       " 'GN': 'Guinea',\n",
       " 'GP': 'Guadeloupe',\n",
       " 'GQ': 'Equatorial Guinea',\n",
       " 'GR': 'Greece',\n",
       " 'GS': 'South Georgia and the South Sandwich Islands',\n",
       " 'GT': 'Guatemala',\n",
       " 'GU': 'Guam',\n",
       " 'GW': 'Guinea-Bissau',\n",
       " 'GY': 'Guyana',\n",
       " 'GZ': 'Gaza Strip',\n",
       " 'HK': 'Hong Kong',\n",
       " 'HM': 'Heard Island and McDonald Islands',\n",
       " 'HN': 'Honduras',\n",
       " 'HR': 'Croatia',\n",
       " 'HT': 'Haiti',\n",
       " 'HU': 'Hungary',\n",
       " 'ID': 'Indonesia',\n",
       " 'IE': 'Ireland',\n",
       " 'IL': 'Israel',\n",
       " 'IM': 'Isle of Man',\n",
       " 'IN': 'India',\n",
       " 'IO': 'British Indian Ocean Territory',\n",
       " 'IQ': 'Iraq',\n",
       " 'IR': 'Iran',\n",
       " 'IS': 'Iceland',\n",
       " 'IT': 'Italy',\n",
       " 'JE': 'Jersey',\n",
       " 'JM': 'Jamaica',\n",
       " 'JO': 'Jordan',\n",
       " 'JP': 'Japan',\n",
       " 'KE': 'Kenya',\n",
       " 'KG': 'Kyrgyzstan',\n",
       " 'KH': 'Cambodia',\n",
       " 'KI': 'Kiribati',\n",
       " 'KM': 'Comoros',\n",
       " 'KN': 'Saint Kitts and Nevis',\n",
       " 'KP': 'North Korea',\n",
       " 'KR': 'South Korea',\n",
       " 'KW': 'Kuwait',\n",
       " 'KY': 'Cayman Islands',\n",
       " 'KZ': 'Kazakhstan',\n",
       " 'LA': 'Laos',\n",
       " 'LB': 'Lebanon',\n",
       " 'LC': 'Saint Lucia',\n",
       " 'LI': 'Liechtenstein',\n",
       " 'LK': 'Sri Lanka',\n",
       " 'LR': 'Liberia',\n",
       " 'LS': 'Lesotho',\n",
       " 'LT': 'Lithuania',\n",
       " 'LU': 'Luxembourg',\n",
       " 'LV': 'Latvia',\n",
       " 'LY': 'Libya',\n",
       " 'MA': 'Morocco',\n",
       " 'MC': 'Monaco',\n",
       " 'MD': 'Moldova',\n",
       " 'ME': 'Montenegro',\n",
       " 'MG': 'Madagascar',\n",
       " 'MH': 'Marshall Islands',\n",
       " 'MK': 'Macedonia [FYROM]',\n",
       " 'ML': 'Mali',\n",
       " 'MM': 'Myanmar [Burma]',\n",
       " 'MN': 'Mongolia',\n",
       " 'MO': 'Macau',\n",
       " 'MP': 'Northern Mariana Islands',\n",
       " 'MQ': 'Martinique',\n",
       " 'MR': 'Mauritania',\n",
       " 'MS': 'Montserrat',\n",
       " 'MT': 'Malta',\n",
       " 'MU': 'Mauritius',\n",
       " 'MV': 'Maldives',\n",
       " 'MW': 'Malawi',\n",
       " 'MX': 'Mexico',\n",
       " 'MY': 'Malaysia',\n",
       " 'MZ': 'Mozambique',\n",
       " 'NA': 'Namibia',\n",
       " 'NC': 'New Caledonia',\n",
       " 'NE': 'Niger',\n",
       " 'NF': 'Norfolk Island',\n",
       " 'NG': 'Nigeria',\n",
       " 'NI': 'Nicaragua',\n",
       " 'NL': 'Netherlands',\n",
       " 'NO': 'Norway',\n",
       " 'NP': 'Nepal',\n",
       " 'NR': 'Nauru',\n",
       " 'NU': 'Niue',\n",
       " 'NZ': 'New Zealand',\n",
       " 'OM': 'Oman',\n",
       " 'PA': 'Panama',\n",
       " 'PE': 'Peru',\n",
       " 'PF': 'French Polynesia',\n",
       " 'PG': 'Papua New Guinea',\n",
       " 'PH': 'Philippines',\n",
       " 'PK': 'Pakistan',\n",
       " 'PL': 'Poland',\n",
       " 'PM': 'Saint Pierre and Miquelon',\n",
       " 'PN': 'Pitcairn Islands',\n",
       " 'PR': 'Puerto Rico',\n",
       " 'PS': 'Palestinian Territories',\n",
       " 'PT': 'Portugal',\n",
       " 'PW': 'Palau',\n",
       " 'PY': 'Paraguay',\n",
       " 'QA': 'Qatar',\n",
       " 'RE': 'Réunion',\n",
       " 'RO': 'Romania',\n",
       " 'RS': 'Serbia',\n",
       " 'RU': 'Russia',\n",
       " 'RW': 'Rwanda',\n",
       " 'SA': 'Saudi Arabia',\n",
       " 'SB': 'Solomon Islands',\n",
       " 'SC': 'Seychelles',\n",
       " 'SD': 'Sudan',\n",
       " 'SE': 'Sweden',\n",
       " 'SG': 'Singapore',\n",
       " 'SH': 'Saint Helena',\n",
       " 'SI': 'Slovenia',\n",
       " 'SJ': 'Svalbard and Jan Mayen',\n",
       " 'SK': 'Slovakia',\n",
       " 'SL': 'Sierra Leone',\n",
       " 'SM': 'San Marino',\n",
       " 'SN': 'Senegal',\n",
       " 'SO': 'Somalia',\n",
       " 'SR': 'Suriname',\n",
       " 'ST': 'São Tomé and Príncipe',\n",
       " 'SV': 'El Salvador',\n",
       " 'SY': 'Syria',\n",
       " 'SZ': 'Swaziland',\n",
       " 'TC': 'Turks and Caicos Islands',\n",
       " 'TD': 'Chad',\n",
       " 'TF': 'French Southern Territories',\n",
       " 'TG': 'Togo',\n",
       " 'TH': 'Thailand',\n",
       " 'TJ': 'Tajikistan',\n",
       " 'TK': 'Tokelau',\n",
       " 'TL': 'Timor-Leste',\n",
       " 'TM': 'Turkmenistan',\n",
       " 'TN': 'Tunisia',\n",
       " 'TO': 'Tonga',\n",
       " 'TR': 'Turkey',\n",
       " 'TT': 'Trinidad and Tobago',\n",
       " 'TV': 'Tuvalu',\n",
       " 'TW': 'Taiwan',\n",
       " 'TZ': 'Tanzania',\n",
       " 'UA': 'Ukraine',\n",
       " 'UG': 'Uganda',\n",
       " 'UM': 'U.S. Minor Outlying Islands',\n",
       " 'US': 'United States',\n",
       " 'UY': 'Uruguay',\n",
       " 'UZ': 'Uzbekistan',\n",
       " 'VA': 'Vatican City',\n",
       " 'VC': 'Saint Vincent and the Grenadines',\n",
       " 'VE': 'Venezuela',\n",
       " 'VG': 'British Virgin Islands',\n",
       " 'VI': 'U.S. Virgin Islands',\n",
       " 'VN': 'Vietnam',\n",
       " 'VU': 'Vanuatu',\n",
       " 'WF': 'Wallis and Futuna',\n",
       " 'WS': 'Samoa',\n",
       " 'XK': 'Kosovo',\n",
       " 'YE': 'Yemen',\n",
       " 'YT': 'Mayotte',\n",
       " 'ZA': 'South Africa',\n",
       " 'ZM': 'Zambia',\n",
       " 'ZW': 'Zimbabwe'}"
      ]
     },
     "execution_count": 16,
     "metadata": {},
     "output_type": "execute_result"
    }
   ],
   "source": [
    "pd.Series(df['name'].values, index=df['country']).to_dict()"
   ]
  },
  {
   "cell_type": "markdown",
   "metadata": {},
   "source": [
    "# Merge 2 or more DataFrame"
   ]
  },
  {
   "cell_type": "code",
   "execution_count": 17,
   "metadata": {},
   "outputs": [
    {
     "data": {
      "text/html": [
       "<div>\n",
       "<style>\n",
       "    .dataframe thead tr:only-child th {\n",
       "        text-align: right;\n",
       "    }\n",
       "\n",
       "    .dataframe thead th {\n",
       "        text-align: left;\n",
       "    }\n",
       "\n",
       "    .dataframe tbody tr th {\n",
       "        vertical-align: top;\n",
       "    }\n",
       "</style>\n",
       "<table border=\"1\" class=\"dataframe\">\n",
       "  <thead>\n",
       "    <tr style=\"text-align: right;\">\n",
       "      <th></th>\n",
       "      <th>country</th>\n",
       "      <th>latitude</th>\n",
       "      <th>longitude</th>\n",
       "      <th>name</th>\n",
       "      <th>coordinate</th>\n",
       "    </tr>\n",
       "  </thead>\n",
       "  <tbody>\n",
       "    <tr>\n",
       "      <th>0</th>\n",
       "      <td>AD</td>\n",
       "      <td>42.546245</td>\n",
       "      <td>1.601554</td>\n",
       "      <td>Andorra</td>\n",
       "      <td>(42.546245, 1.6015540000000001)</td>\n",
       "    </tr>\n",
       "    <tr>\n",
       "      <th>1</th>\n",
       "      <td>AE</td>\n",
       "      <td>23.424076</td>\n",
       "      <td>53.847818</td>\n",
       "      <td>United Arab Emirates</td>\n",
       "      <td>(23.424076, 53.847818000000004)</td>\n",
       "    </tr>\n",
       "    <tr>\n",
       "      <th>243</th>\n",
       "      <td>ZM</td>\n",
       "      <td>-13.133897</td>\n",
       "      <td>27.849332</td>\n",
       "      <td>Zambia</td>\n",
       "      <td>(-13.133897, 27.849332)</td>\n",
       "    </tr>\n",
       "    <tr>\n",
       "      <th>244</th>\n",
       "      <td>ZW</td>\n",
       "      <td>-19.015438</td>\n",
       "      <td>29.154857</td>\n",
       "      <td>Zimbabwe</td>\n",
       "      <td>(-19.015438, 29.154857)</td>\n",
       "    </tr>\n",
       "  </tbody>\n",
       "</table>\n",
       "</div>"
      ],
      "text/plain": [
       "    country   latitude  longitude                  name  \\\n",
       "0        AD  42.546245   1.601554               Andorra   \n",
       "1        AE  23.424076  53.847818  United Arab Emirates   \n",
       "243      ZM -13.133897  27.849332                Zambia   \n",
       "244      ZW -19.015438  29.154857              Zimbabwe   \n",
       "\n",
       "                          coordinate  \n",
       "0    (42.546245, 1.6015540000000001)  \n",
       "1    (23.424076, 53.847818000000004)  \n",
       "243          (-13.133897, 27.849332)  \n",
       "244          (-19.015438, 29.154857)  "
      ]
     },
     "execution_count": 17,
     "metadata": {},
     "output_type": "execute_result"
    }
   ],
   "source": [
    "a = df.head(2)\n",
    "b = df.tail(2)\n",
    "pd.concat([a, b], axis=0)"
   ]
  }
 ],
 "metadata": {
  "kernelspec": {
   "display_name": "Python 3",
   "language": "python",
   "name": "python3"
  },
  "language_info": {
   "codemirror_mode": {
    "name": "ipython",
    "version": 3
   },
   "file_extension": ".py",
   "mimetype": "text/x-python",
   "name": "python",
   "nbconvert_exporter": "python",
   "pygments_lexer": "ipython3",
   "version": "3.6.3"
  }
 },
 "nbformat": 4,
 "nbformat_minor": 2
}
