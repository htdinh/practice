{
 "cells": [
  {
   "cell_type": "markdown",
   "metadata": {},
   "source": [
    "# How to handle Unicode in Python 2?\n",
    "Quoted from Philip Guo [blog](http://www.pgbovine.net/unicode-python.htm):\n",
    "\n",
    ">In Python 2, if you see a `str` object, convert it to a unicode object right away by calling `.decode('utf-8')`. Process all strings as `unicode` objects, not `str` objects. If you need to write a `unicode` object out to a file or database, first call .`encode('utf-8')` on it. \n",
    "\n",
    "* This is the string text, write normal text"
   ]
  },
  {
   "cell_type": "code",
   "execution_count": 1,
   "metadata": {},
   "outputs": [
    {
     "name": "stdout",
     "output_type": "stream",
     "text": [
      "<type 'str'>\n"
     ]
    }
   ],
   "source": [
    "str_text = 'Friedrichstra\\xc3\\x9fe'  \n",
    "print type(str_text)\n",
    "with open(\"file1.txt\", 'w') as file:\n",
    "    file.write(str_text)\n",
    "    # Expect a file with Friedrichstraße"
   ]
  },
  {
   "cell_type": "markdown",
   "metadata": {},
   "source": [
    "* This is unicode text. It needs to be __encoded__ before writing to file"
   ]
  },
  {
   "cell_type": "code",
   "execution_count": 2,
   "metadata": {},
   "outputs": [
    {
     "name": "stdout",
     "output_type": "stream",
     "text": [
      "<type 'unicode'>\n"
     ]
    }
   ],
   "source": [
    "unicode_text = u'Friedrichstra\\xdfe' \n",
    "print type(unicode_text)\n",
    "with open(\"file2.txt\", 'w') as file:\n",
    "    file.write(unicode_text.encode(\"utf-8\"))\n",
    "    # Expect a file with Friedrichstraße"
   ]
  },
  {
   "cell_type": "markdown",
   "metadata": {},
   "source": [
    "* Read a file with unicode character"
   ]
  },
  {
   "cell_type": "code",
   "execution_count": 3,
   "metadata": {},
   "outputs": [
    {
     "name": "stdout",
     "output_type": "stream",
     "text": [
      "Friedrichstraße\n"
     ]
    }
   ],
   "source": [
    "with open(\"file2.txt\", 'r') as file:\n",
    "    for line in file:\n",
    "        print line"
   ]
  },
  {
   "cell_type": "markdown",
   "metadata": {},
   "source": [
    "# How to convert from str to unicode? \n",
    "### Only apply in order:\n",
    "* str     ====(decode)====> unicode\n",
    "* unicode ====(encode)====> str\n",
    "\n",
    "Other methods would raise error. \n",
    "* `str_text.encode(\"utf-8\")`\n",
    "* `unicode_text.decode(\"utf-8\")` "
   ]
  },
  {
   "cell_type": "code",
   "execution_count": 4,
   "metadata": {},
   "outputs": [
    {
     "data": {
      "text/plain": [
       "True"
      ]
     },
     "execution_count": 4,
     "metadata": {},
     "output_type": "execute_result"
    }
   ],
   "source": [
    "str_text.decode(\"utf-8\") == unicode_text"
   ]
  },
  {
   "cell_type": "code",
   "execution_count": 5,
   "metadata": {},
   "outputs": [
    {
     "data": {
      "text/plain": [
       "True"
      ]
     },
     "execution_count": 5,
     "metadata": {},
     "output_type": "execute_result"
    }
   ],
   "source": [
    "str_text == unicode_text.encode(\"utf-8\")"
   ]
  },
  {
   "cell_type": "markdown",
   "metadata": {},
   "source": [
    "* Memebership check is also a form of comparison check. If both are not unicode, the result will be False by default. "
   ]
  },
  {
   "cell_type": "code",
   "execution_count": 6,
   "metadata": {},
   "outputs": [
    {
     "name": "stderr",
     "output_type": "stream",
     "text": [
      "/usr/local/lib/python2.7/dist-packages/ipykernel_launcher.py:1: UnicodeWarning: Unicode equal comparison failed to convert both arguments to Unicode - interpreting them as being unequal\n",
      "  \"\"\"Entry point for launching an IPython kernel.\n"
     ]
    },
    {
     "data": {
      "text/plain": [
       "False"
      ]
     },
     "execution_count": 6,
     "metadata": {},
     "output_type": "execute_result"
    }
   ],
   "source": [
    "unicode_text in [str_text]"
   ]
  },
  {
   "cell_type": "markdown",
   "metadata": {},
   "source": [
    "* Good practice: Convert both in Unicode"
   ]
  },
  {
   "cell_type": "code",
   "execution_count": 7,
   "metadata": {},
   "outputs": [
    {
     "data": {
      "text/plain": [
       "True"
      ]
     },
     "execution_count": 7,
     "metadata": {},
     "output_type": "execute_result"
    }
   ],
   "source": [
    "unicode_text in [str_text.decode('utf-8')]"
   ]
  },
  {
   "cell_type": "markdown",
   "metadata": {},
   "source": [
    "### The reverse direction works only if there is no unicode character in the text (only ASCII)"
   ]
  },
  {
   "cell_type": "code",
   "execution_count": 8,
   "metadata": {},
   "outputs": [
    {
     "data": {
      "text/plain": [
       "'abc'"
      ]
     },
     "execution_count": 8,
     "metadata": {},
     "output_type": "execute_result"
    }
   ],
   "source": [
    "\"abc\".encode('utf-8')  # But the following would throw error str_text.encode('utf-8') because of non-ASCII ß"
   ]
  },
  {
   "cell_type": "code",
   "execution_count": 9,
   "metadata": {},
   "outputs": [
    {
     "data": {
      "text/plain": [
       "u'abc'"
      ]
     },
     "execution_count": 9,
     "metadata": {},
     "output_type": "execute_result"
    }
   ],
   "source": [
    "\"abc\".decode('utf-8')  # But unicode_text.decode('utf-8') wouth throw error because of non-ASCII ß"
   ]
  },
  {
   "cell_type": "markdown",
   "metadata": {},
   "source": [
    "### In the mixture of both types"
   ]
  },
  {
   "cell_type": "code",
   "execution_count": 10,
   "metadata": {},
   "outputs": [
    {
     "data": {
      "text/plain": [
       "True"
      ]
     },
     "execution_count": 10,
     "metadata": {},
     "output_type": "execute_result"
    }
   ],
   "source": [
    "unicode_text in [unicode_text]"
   ]
  },
  {
   "cell_type": "markdown",
   "metadata": {},
   "source": [
    "# Write unicode to CSV file \n",
    "[StackOverflow](https://stackoverflow.com/questions/17245415/read-and-write-csv-files-including-unicode-with-python-2-7)"
   ]
  },
  {
   "cell_type": "code",
   "execution_count": 11,
   "metadata": {},
   "outputs": [
    {
     "name": "stdout",
     "output_type": "stream",
     "text": [
      "German         Chinese        French         \n",
      "Straße         中國的            français       \n",
      "auslösen       英語             américaine     \n",
      "zerstören      美國人            épais          \n"
     ]
    }
   ],
   "source": [
    "import csv\n",
    "\n",
    "tests={'German': [u'Straße',u'auslösen',u'zerstören'], \n",
    "       'French': [u'français',u'américaine',u'épais'], \n",
    "       'Chinese': [u'中國的',u'英語',u'美國人']}\n",
    "\n",
    "with open('utf.csv','w') as fout:\n",
    "    writer=csv.writer(fout)    \n",
    "    writer.writerows([tests.keys()])\n",
    "    for row in zip(*tests.values()):\n",
    "        row=[s.encode('utf-8') for s in row]\n",
    "        writer.writerows([row])\n",
    "\n",
    "with open('utf.csv','r') as fin:\n",
    "    reader=csv.reader(fin)\n",
    "    for row in reader:\n",
    "        temp=list(row)\n",
    "        fmt=u'{:<15}'*len(temp)\n",
    "        print fmt.format(*[s.decode('utf-8') for s in temp])"
   ]
  },
  {
   "cell_type": "markdown",
   "metadata": {},
   "source": [
    "# Using unicodecsv"
   ]
  },
  {
   "cell_type": "code",
   "execution_count": 12,
   "metadata": {},
   "outputs": [
    {
     "name": "stdout",
     "output_type": "stream",
     "text": [
      "[u'\\xe9', u'\\xf1', u'a']\n"
     ]
    }
   ],
   "source": [
    "import unicodecsv as csv\n",
    "\n",
    "filename = \"unicode.csv\"\n",
    "\n",
    "# Write to file\n",
    "with open(filename, 'w') as f:\n",
    "    w = csv.writer(f, encoding='utf-8')\n",
    "    w.writerow([u'é', u'ñ', 'a'])\n",
    "    \n",
    "# Read from file\n",
    "with open(filename, 'r') as f:\n",
    "    w = csv.reader(f, encoding='utf-8')\n",
    "    print next(w)\n"
   ]
  },
  {
   "cell_type": "markdown",
   "metadata": {},
   "source": [
    "# More indept about Unicode\n",
    "Unicode Howto [Python Official Guide](https://docs.python.org/2/howto/unicode.html)\n",
    "* Treatment of special convertion functions such as: `str`, `unicode`, `chr`"
   ]
  },
  {
   "cell_type": "code",
   "execution_count": null,
   "metadata": {
    "collapsed": true
   },
   "outputs": [],
   "source": []
  }
 ],
 "metadata": {
  "kernelspec": {
   "display_name": "Python 2",
   "language": "python",
   "name": "python2"
  },
  "language_info": {
   "codemirror_mode": {
    "name": "ipython",
    "version": 2
   },
   "file_extension": ".py",
   "mimetype": "text/x-python",
   "name": "python",
   "nbconvert_exporter": "python",
   "pygments_lexer": "ipython2",
   "version": "2.7.12"
  }
 },
 "nbformat": 4,
 "nbformat_minor": 2
}
