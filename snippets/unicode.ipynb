{
 "cells": [
  {
   "cell_type": "markdown",
   "metadata": {},
   "source": [
    "# How to handle Unicode in Python 2?\n",
    "Quoted from Philip Guo [blog](http://www.pgbovine.net/unicode-python.htm):\n",
    "\n",
    ">In Python 2, if you see a `str` object, convert it to a unicode object right away by calling `.decode('utf-8')`. Process all strings as `unicode` objects, not `str` objects. If you need to write a `unicode` object out to a file or database, first call .`encode('utf-8')` on it. \n",
    "\n",
    "* This is the string text, write normal text"
   ]
  },
  {
   "cell_type": "code",
   "execution_count": 1,
   "metadata": {},
   "outputs": [
    {
     "ename": "SyntaxError",
     "evalue": "invalid syntax (<ipython-input-1-d66b9040d311>, line 2)",
     "output_type": "error",
     "traceback": [
      "\u001b[0;36m  File \u001b[0;32m\"<ipython-input-1-d66b9040d311>\"\u001b[0;36m, line \u001b[0;32m2\u001b[0m\n\u001b[0;31m    print type(str_text)\u001b[0m\n\u001b[0m             ^\u001b[0m\n\u001b[0;31mSyntaxError\u001b[0m\u001b[0;31m:\u001b[0m invalid syntax\n"
     ]
    }
   ],
   "source": [
    "str_text = 'Friedrichstra\\xc3\\x9fe'  \n",
    "print(type(str_text))\n",
    "with open(\"file1.txt\", 'w') as file:\n",
    "    file.write(str_text)\n",
    "    # Expect a file with Friedrichstraße"
   ]
  },
  {
   "cell_type": "markdown",
   "metadata": {},
   "source": [
    "* This is unicode text. It needs to be __encoded__ before writing to file"
   ]
  },
  {
   "cell_type": "code",
   "execution_count": null,
   "metadata": {},
   "outputs": [],
   "source": [
    "unicode_text = u'Friedrichstra\\xdfe' \n",
    "print type(unicode_text)\n",
    "with open(\"file2.txt\", 'w') as file:\n",
    "    file.write(unicode_text.encode(\"utf-8\"))\n",
    "    # Expect a file with Friedrichstraße"
   ]
  },
  {
   "cell_type": "markdown",
   "metadata": {},
   "source": [
    "* Read a file with unicode character"
   ]
  },
  {
   "cell_type": "code",
   "execution_count": null,
   "metadata": {},
   "outputs": [],
   "source": [
    "with open(\"file2.txt\", 'r') as file:\n",
    "    for line in file:\n",
    "        print line"
   ]
  },
  {
   "cell_type": "markdown",
   "metadata": {},
   "source": [
    "# How to convert from str to unicode? \n",
    "### Only apply in order:\n",
    "* str     ====(decode)====> unicode\n",
    "* unicode ====(encode)====> str\n",
    "\n",
    "Other methods would raise error. \n",
    "* `str_text.encode(\"utf-8\")`\n",
    "* `unicode_text.decode(\"utf-8\")` "
   ]
  },
  {
   "cell_type": "code",
   "execution_count": null,
   "metadata": {},
   "outputs": [],
   "source": [
    "str_text.decode(\"utf-8\") == unicode_text"
   ]
  },
  {
   "cell_type": "code",
   "execution_count": null,
   "metadata": {},
   "outputs": [],
   "source": [
    "str_text == unicode_text.encode(\"utf-8\")"
   ]
  },
  {
   "cell_type": "markdown",
   "metadata": {},
   "source": [
    "* Memebership check is also a form of comparison check. If both are not unicode, the result will be False by default. "
   ]
  },
  {
   "cell_type": "code",
   "execution_count": null,
   "metadata": {},
   "outputs": [],
   "source": [
    "unicode_text in [str_text]"
   ]
  },
  {
   "cell_type": "markdown",
   "metadata": {},
   "source": [
    "* Good practice: Convert both in Unicode"
   ]
  },
  {
   "cell_type": "code",
   "execution_count": null,
   "metadata": {},
   "outputs": [],
   "source": [
    "unicode_text in [str_text.decode('utf-8')]"
   ]
  },
  {
   "cell_type": "markdown",
   "metadata": {},
   "source": [
    "### The reverse direction works only if there is no unicode character in the text (only ASCII)"
   ]
  },
  {
   "cell_type": "code",
   "execution_count": null,
   "metadata": {},
   "outputs": [],
   "source": [
    "\"abc\".encode('utf-8')  # But the following would throw error str_text.encode('utf-8') because of non-ASCII ß"
   ]
  },
  {
   "cell_type": "code",
   "execution_count": null,
   "metadata": {},
   "outputs": [],
   "source": [
    "\"abc\".decode('utf-8')  # But unicode_text.decode('utf-8') wouth throw error because of non-ASCII ß"
   ]
  },
  {
   "cell_type": "markdown",
   "metadata": {},
   "source": [
    "### In the mixture of both types"
   ]
  },
  {
   "cell_type": "code",
   "execution_count": null,
   "metadata": {},
   "outputs": [],
   "source": [
    "unicode_text in [unicode_text]"
   ]
  },
  {
   "cell_type": "markdown",
   "metadata": {},
   "source": [
    "# Write unicode to CSV file \n",
    "[StackOverflow](https://stackoverflow.com/questions/17245415/read-and-write-csv-files-including-unicode-with-python-2-7)"
   ]
  },
  {
   "cell_type": "code",
   "execution_count": null,
   "metadata": {},
   "outputs": [],
   "source": [
    "import csv\n",
    "\n",
    "tests={'German': [u'Straße',u'auslösen',u'zerstören'], \n",
    "       'French': [u'français',u'américaine',u'épais'], \n",
    "       'Chinese': [u'中國的',u'英語',u'美國人']}\n",
    "\n",
    "with open('utf.csv','w') as fout:\n",
    "    writer=csv.writer(fout)    \n",
    "    writer.writerows([tests.keys()])\n",
    "    for row in zip(*tests.values()):\n",
    "        row=[s.encode('utf-8') for s in row]\n",
    "        writer.writerows([row])\n",
    "\n",
    "with open('utf.csv','r') as fin:\n",
    "    reader=csv.reader(fin)\n",
    "    for row in reader:\n",
    "        temp=list(row)\n",
    "        fmt=u'{:<15}'*len(temp)\n",
    "        print fmt.format(*[s.decode('utf-8') for s in temp])"
   ]
  },
  {
   "cell_type": "markdown",
   "metadata": {},
   "source": [
    "# Using unicodecsv"
   ]
  },
  {
   "cell_type": "code",
   "execution_count": null,
   "metadata": {},
   "outputs": [],
   "source": [
    "import unicodecsv as csv\n",
    "\n",
    "filename = \"unicode.csv\"\n",
    "\n",
    "# Write to file\n",
    "with open(filename, 'w') as f:\n",
    "    w = csv.writer(f, encoding='utf-8')\n",
    "    w.writerow([u'é', u'ñ', 'a'])\n",
    "    \n",
    "# Read from file\n",
    "with open(filename, 'r') as f:\n",
    "    w = csv.reader(f, encoding='utf-8')\n",
    "    print next(w)\n"
   ]
  },
  {
   "cell_type": "markdown",
   "metadata": {},
   "source": [
    "# Regular Expression with Unicode\n",
    "* Python 2: The expression `\\W+` can be applied to unicode characters (i.e. é, ö, ü) with re.UNICODE flag activated\n",
    "* Python 3: Depending on LOCALE, but in general, no flag setting is needed. "
   ]
  },
  {
   "cell_type": "code",
   "execution_count": null,
   "metadata": {},
   "outputs": [],
   "source": [
    "import re\n",
    "print(re.findall(r'\\w+', 'abc def güi jkl'))  # ü is not understood\n",
    "\n",
    "print(re.findall(r'\\w+', u'abc def güi jkl'))  # ü is not understood\n",
    "\n",
    "# Activate re.UNICODE\n",
    "print(re.findall(r'\\w+', 'abc def güi jkl', re.UNICODE))  # güi is understood as a whole"
   ]
  },
  {
   "cell_type": "markdown",
   "metadata": {},
   "source": [
    "# More indept about Unicode\n",
    "Unicode Howto [Python Official Guide](https://docs.python.org/2/howto/unicode.html)\n",
    "* Treatment of special convertion functions such as: `str`, `unicode`, `chr`"
   ]
  },
  {
   "cell_type": "code",
   "execution_count": null,
   "metadata": {
    "collapsed": true
   },
   "outputs": [],
   "source": []
  }
 ],
 "metadata": {
  "kernelspec": {
   "display_name": "Python 3",
   "language": "python",
   "name": "python3"
  },
  "language_info": {
   "codemirror_mode": {
    "name": "ipython",
    "version": 3
   },
   "file_extension": ".py",
   "mimetype": "text/x-python",
   "name": "python",
   "nbconvert_exporter": "python",
   "pygments_lexer": "ipython3",
   "version": "3.6.3"
  }
 },
 "nbformat": 4,
 "nbformat_minor": 2
}
