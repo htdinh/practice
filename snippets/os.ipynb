{
 "cells": [
  {
   "cell_type": "markdown",
   "metadata": {},
   "source": [
    "# Create a directory if not exist"
   ]
  },
  {
   "cell_type": "markdown",
   "metadata": {},
   "source": [
    "Following a StackOverflow [answer](https://stackoverflow.com/questions/273192/how-can-i-create-a-directory-if-it-does-not-exist). "
   ]
  },
  {
   "cell_type": "code",
   "execution_count": 1,
   "metadata": {},
   "outputs": [],
   "source": [
    "path = 'new_directory'\n",
    "import os, errno\n",
    "try:\n",
    "    os.makedirs(path)\n",
    "except OSError as e:\n",
    "    if e.errno != errno.EEXIST:\n",
    "        raise"
   ]
  },
  {
   "cell_type": "markdown",
   "metadata": {},
   "source": [
    "# Read a file from URL"
   ]
  },
  {
   "cell_type": "code",
   "execution_count": 2,
   "metadata": {},
   "outputs": [
    {
     "name": "stdout",
     "output_type": "stream",
     "text": [
      "The Project Gutenberg EBook of The Adventures of Sherlock Holmes\n",
      "\n"
     ]
    }
   ],
   "source": [
    "import urllib2\n",
    "target_url = 'http://norvig.com/big.txt'\n",
    "for line in urllib2.urlopen(target_url):\n",
    "    print line\n",
    "    break"
   ]
  },
  {
   "cell_type": "markdown",
   "metadata": {},
   "source": [
    "# Read a local file\n",
    "* Options (for both read and write)\n",
    "    * 'r' when the file will only be read, \n",
    "    * 'w' for only writing (an existing file with the same name will be erased),\n",
    "    * 'a' opens the file for appending; any data written to the file is automatically added to the end. \n",
    "    * 'r+' opens the file for both reading and writing"
   ]
  },
  {
   "cell_type": "code",
   "execution_count": 3,
   "metadata": {},
   "outputs": [
    {
     "name": "stdout",
     "output_type": "stream",
     "text": [
      "country,latitude,longitude,name\n",
      "\n"
     ]
    }
   ],
   "source": [
    "with open('countries.csv', 'r') as f:\n",
    "    for line in f:\n",
    "        print line\n",
    "        break  # Only print the first line for demonstration"
   ]
  },
  {
   "cell_type": "markdown",
   "metadata": {},
   "source": [
    "# Write to local file\n",
    "* Must include newline character"
   ]
  },
  {
   "cell_type": "code",
   "execution_count": 4,
   "metadata": {
    "collapsed": true
   },
   "outputs": [],
   "source": [
    "with open('write.txt', 'w') as f:\n",
    "    for i in range(5):\n",
    "        line = \"write a new line {}\\n\".format(i)\n",
    "        f.write(line) "
   ]
  },
  {
   "cell_type": "code",
   "execution_count": null,
   "metadata": {
    "collapsed": true
   },
   "outputs": [],
   "source": []
  }
 ],
 "metadata": {
  "kernelspec": {
   "display_name": "Python 2",
   "language": "python",
   "name": "python2"
  },
  "language_info": {
   "codemirror_mode": {
    "name": "ipython",
    "version": 2
   },
   "file_extension": ".py",
   "mimetype": "text/x-python",
   "name": "python",
   "nbconvert_exporter": "python",
   "pygments_lexer": "ipython2",
   "version": "2.7.12"
  }
 },
 "nbformat": 4,
 "nbformat_minor": 2
}
