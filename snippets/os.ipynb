{
 "cells": [
  {
   "cell_type": "markdown",
   "metadata": {},
   "source": [
    "# Create a directory if not exist"
   ]
  },
  {
   "cell_type": "markdown",
   "metadata": {},
   "source": [
    "Following a StackOverflow [answer](https://stackoverflow.com/questions/273192/how-can-i-create-a-directory-if-it-does-not-exist). "
   ]
  },
  {
   "cell_type": "code",
   "execution_count": 1,
   "metadata": {
    "collapsed": true
   },
   "outputs": [],
   "source": [
    "path = 'new_directory'\n",
    "import os, errno\n",
    "try:\n",
    "    os.makedirs(path)\n",
    "except OSError as e:\n",
    "    if e.errno != errno.EEXIST:\n",
    "        raise"
   ]
  },
  {
   "cell_type": "markdown",
   "metadata": {},
   "source": [
    "# Read all files in the directory"
   ]
  },
  {
   "cell_type": "markdown",
   "metadata": {},
   "source": [
    "### Using __os__ module"
   ]
  },
  {
   "cell_type": "code",
   "execution_count": 2,
   "metadata": {
    "collapsed": true
   },
   "outputs": [],
   "source": [
    "import os\n",
    "current_directory = os.getcwd()"
   ]
  },
  {
   "cell_type": "markdown",
   "metadata": {},
   "source": [
    "* Raise error when directory is not exist"
   ]
  },
  {
   "cell_type": "code",
   "execution_count": 3,
   "metadata": {
    "collapsed": true
   },
   "outputs": [],
   "source": [
    "non_existing_path = 'non-existing-dir'\n",
    "#for filename in os.listdir(non_existing_path):\n",
    "#    print filename"
   ]
  },
  {
   "cell_type": "code",
   "execution_count": 4,
   "metadata": {},
   "outputs": [
    {
     "name": "stdout",
     "output_type": "stream",
     "text": [
      ".DS_Store\n",
      "countries.csv\n",
      "code.ipynb\n",
      "authors.csv\n",
      "countries_copy.csv\n",
      "new_directory\n",
      "os.ipynb\n",
      "data.json\n",
      "tf_tutorial.ipynb\n",
      "write.txt\n",
      "countries.txt\n",
      "data.p\n",
      ".ipynb_checkpoints\n",
      "pandas.ipynb\n",
      "pandas_plot.ipynb\n",
      "unicode.ipynb\n"
     ]
    }
   ],
   "source": [
    "valid_path = current_directory  # Last `/` is not necessary\n",
    "for filename in os.listdir(valid_path):\n",
    "    print(filename)"
   ]
  },
  {
   "cell_type": "code",
   "execution_count": 5,
   "metadata": {},
   "outputs": [
    {
     "name": "stdout",
     "output_type": "stream",
     "text": [
      "\"sep=,\"\n",
      "\n"
     ]
    }
   ],
   "source": [
    "with open(os.path.join(valid_path, \"countries.txt\")) as f:\n",
    "    for line in f.readlines():\n",
    "        print(line)\n",
    "        break"
   ]
  },
  {
   "cell_type": "markdown",
   "metadata": {},
   "source": [
    "### Using __glob__ module has more custom support for file name. \n",
    "* That means the file name must be either specified explicitly with wildcard i.e. `*.txt` or `*` for all files. "
   ]
  },
  {
   "cell_type": "code",
   "execution_count": 6,
   "metadata": {},
   "outputs": [
    {
     "name": "stdout",
     "output_type": "stream",
     "text": [
      "/Users/d071576/Documents/GitHub/practice/snippets\n"
     ]
    }
   ],
   "source": [
    "from glob import glob\n",
    "path = '/home'  # change to '/home/*' to list all the sub-folder \n",
    "files = glob(valid_path)  \n",
    "for file in files: \n",
    "    print(file)"
   ]
  },
  {
   "cell_type": "markdown",
   "metadata": {},
   "source": [
    "# Read a file from URL"
   ]
  },
  {
   "cell_type": "code",
   "execution_count": 7,
   "metadata": {},
   "outputs": [
    {
     "name": "stdout",
     "output_type": "stream",
     "text": [
      "b'The Project Gutenberg EBook of The Adventures of Sherlock Holmes\\n'\n"
     ]
    }
   ],
   "source": [
    "from urllib.request import urlopen\n",
    "target_url = 'http://norvig.com/big.txt'\n",
    "for line in urlopen(target_url):\n",
    "    print(line)\n",
    "    break"
   ]
  },
  {
   "cell_type": "markdown",
   "metadata": {},
   "source": [
    "# Read a local file\n",
    "* Options (for both read and write)\n",
    "    * 'r' when the file will only be read, \n",
    "    * 'w' for only writing (an existing file with the same name will be erased),\n",
    "    * 'a' opens the file for appending; any data written to the file is automatically added to the end. \n",
    "    * 'r+' opens the file for both reading and writing"
   ]
  },
  {
   "cell_type": "code",
   "execution_count": 8,
   "metadata": {},
   "outputs": [
    {
     "name": "stdout",
     "output_type": "stream",
     "text": [
      "\"sep=,\"\n",
      "\n"
     ]
    }
   ],
   "source": [
    "with open('countries.csv', 'r') as f:\n",
    "    for line in f:\n",
    "        print(line)\n",
    "        break  # Only print the first line for demonstration"
   ]
  },
  {
   "cell_type": "markdown",
   "metadata": {},
   "source": [
    "# Write to local file\n",
    "* Must include newline character"
   ]
  },
  {
   "cell_type": "code",
   "execution_count": 9,
   "metadata": {
    "collapsed": true
   },
   "outputs": [],
   "source": [
    "with open('write.txt', 'w') as f:\n",
    "    for i in range(5):\n",
    "        line = \"write a new line {}\\n\".format(i)\n",
    "        f.write(line) "
   ]
  },
  {
   "cell_type": "markdown",
   "metadata": {
    "collapsed": true
   },
   "source": [
    "# Write to CSV file"
   ]
  },
  {
   "cell_type": "code",
   "execution_count": 10,
   "metadata": {},
   "outputs": [],
   "source": [
    "authors = [\n",
    "    (\"Ernest\", \"Hemingway\"),\n",
    "    (\"Victor\", \"Hugo\"),\n",
    "    (\"François\", \"Québec\"),  #\n",
    "]\n",
    "import csv\n",
    "with open('authors.csv', 'w+', encoding='utf-8') as csvfile:  # Keep encoding as a file attribute\n",
    "    writer = csv.writer(csvfile, delimiter=';')  # Delimiter as CSV attribute\n",
    "    # Write header\n",
    "    writer.writerow([\"first_name\", \"last_name\"])\n",
    "    for (item_1, item_2) in authors:\n",
    "        writer.writerow([item_1, item_2])"
   ]
  },
  {
   "cell_type": "markdown",
   "metadata": {
    "collapsed": true
   },
   "source": [
    "# Write and read JSON file\n",
    "Following [StackOverflow answer](https://stackoverflow.com/questions/7100125/storing-python-dictionaries)"
   ]
  },
  {
   "cell_type": "markdown",
   "metadata": {},
   "source": [
    "Write to JSON"
   ]
  },
  {
   "cell_type": "code",
   "execution_count": 11,
   "metadata": {
    "collapsed": true
   },
   "outputs": [],
   "source": [
    "data = {\n",
    "    \"US\": \"United States\",\n",
    "    \"UK\": \"United Kingdom\",\n",
    "}\n",
    "import json\n",
    "with open('data.json', 'w') as fp:\n",
    "    json.dump(data, fp)"
   ]
  },
  {
   "cell_type": "markdown",
   "metadata": {},
   "source": [
    "Read from JSON"
   ]
  },
  {
   "cell_type": "code",
   "execution_count": 12,
   "metadata": {
    "collapsed": true
   },
   "outputs": [],
   "source": [
    "with open('data.json', 'r') as fp:\n",
    "    loaded_data = json.load(fp)"
   ]
  },
  {
   "cell_type": "code",
   "execution_count": 13,
   "metadata": {},
   "outputs": [
    {
     "data": {
      "text/plain": [
       "{'UK': 'United Kingdom', 'US': 'United States'}"
      ]
     },
     "execution_count": 13,
     "metadata": {},
     "output_type": "execute_result"
    }
   ],
   "source": [
    "loaded_data"
   ]
  },
  {
   "cell_type": "markdown",
   "metadata": {},
   "source": [
    "# Pickle save and load \n",
    "* Most general method for any type of data\n",
    "\n",
    "Pickle save"
   ]
  },
  {
   "cell_type": "code",
   "execution_count": 14,
   "metadata": {},
   "outputs": [],
   "source": [
    "#import cPickle as pickle  Python 2\n",
    "import pickle # Python 3\n",
    "with open('data.p', 'wb') as fp:\n",
    "    pickle.dump(data, fp)"
   ]
  },
  {
   "cell_type": "markdown",
   "metadata": {},
   "source": [
    "Pickle load"
   ]
  },
  {
   "cell_type": "code",
   "execution_count": 15,
   "metadata": {
    "collapsed": true
   },
   "outputs": [],
   "source": [
    "with open('data.p', 'rb') as fp:\n",
    "    loaded_data = pickle.load(fp)"
   ]
  },
  {
   "cell_type": "code",
   "execution_count": 16,
   "metadata": {},
   "outputs": [
    {
     "data": {
      "text/plain": [
       "{'UK': 'United Kingdom', 'US': 'United States'}"
      ]
     },
     "execution_count": 16,
     "metadata": {},
     "output_type": "execute_result"
    }
   ],
   "source": [
    "loaded_data"
   ]
  },
  {
   "cell_type": "code",
   "execution_count": null,
   "metadata": {
    "collapsed": true
   },
   "outputs": [],
   "source": []
  }
 ],
 "metadata": {
  "kernelspec": {
   "display_name": "Python 3",
   "language": "python",
   "name": "python3"
  },
  "language_info": {
   "codemirror_mode": {
    "name": "ipython",
    "version": 3
   },
   "file_extension": ".py",
   "mimetype": "text/x-python",
   "name": "python",
   "nbconvert_exporter": "python",
   "pygments_lexer": "ipython3",
   "version": "3.6.3"
  }
 },
 "nbformat": 4,
 "nbformat_minor": 2
}
