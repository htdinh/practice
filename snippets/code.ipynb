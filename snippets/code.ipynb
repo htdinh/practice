{
 "cells": [
  {
   "cell_type": "markdown",
   "metadata": {},
   "source": [
    "# Coding practice\n",
    "### Review basic data structures: \n",
    "* Linked List\n",
    "* Stack\n",
    "* Queue\n",
    "* Binary Search Tree"
   ]
  },
  {
   "cell_type": "markdown",
   "metadata": {},
   "source": [
    "### Learning points:\n",
    "* `if __name__ = \"__main__\"` is to make the code in the main block only executed if it is called directly. Hide this part when we have import. \n",
    "* Keep in mind the variable and attribute names\n",
    "* Inside a class, always use `self`\n",
    "* Handle the case when the data structure is empty\n",
    "* Object: distinguish calling an instantiated instance vs calling the initialisation (which creates another instance)"
   ]
  },
  {
   "cell_type": "markdown",
   "metadata": {},
   "source": [
    "# Linked List\n",
    "### Create an manipulate the linked list"
   ]
  },
  {
   "cell_type": "markdown",
   "metadata": {},
   "source": [
    "* Create a linked list. Some properties: \n",
    "    * Add the new node at the begining of the list by creating a new node, pointing to the current beginning. \n",
    "    * Be careful how to initialise the node and linked list (set to None in this case). \n",
    "    * When extending the list, the new node can be represented by either value or object\n",
    "* Revise Object-Oriented"
   ]
  },
  {
   "cell_type": "code",
   "execution_count": 1,
   "metadata": {},
   "outputs": [
    {
     "name": "stdout",
     "output_type": "stream",
     "text": [
      "4\n",
      "3\n",
      "2\n",
      "1\n",
      "(4, 3) --> (3, 2) --> (2, 1) --> (1, '')\n",
      "Pop data 4\n",
      "(3, 2) --> (2, 1) --> (1, '')\n"
     ]
    }
   ],
   "source": [
    "class Node:  # Or declare it Node(object), both are ok. s\n",
    "  def __init__(self, data=None, next_node=None):\n",
    "    self.next_node = next_node\n",
    "    self.data = data\n",
    "  \n",
    "class Linked_List:\n",
    "  def __init__(self):\n",
    "    self.cur_node = None\n",
    "  \n",
    "  def add_node_by_value(self, value):  # Consider adding the value instead of node\n",
    "    new_node = Node()\n",
    "    new_node.data = value\n",
    "    new_node.next_node = self.cur_node\n",
    "    self.cur_node = new_node\n",
    "    \n",
    "  def add_node_by_object(self,obj):  # Accept a node as object\n",
    "    obj.next_node = self.cur_node\n",
    "    self.cur_node = obj\n",
    "    \n",
    "  def pop(self):\n",
    "    pop_data = self.cur_node.data # Return the data of the current node\n",
    "    self.cur_node = self.cur_node.next_node\n",
    "    return pop_data\n",
    "  \n",
    "  def list_print(self):   # Traversing the list, print to STDOUT but not returning anything\n",
    "    node = self.cur_node\n",
    "    while node:\n",
    "      print node.data\n",
    "      node = node.next_node  # Advancing the node\n",
    "    \n",
    "  def __repr__(self): \n",
    "    node = self.cur_node\n",
    "    node_values = []\n",
    "    while node:\n",
    "      try:\n",
    "        node_values.append(str((node.data, node.next_node.data)))\n",
    "      except:\n",
    "        node_values.append(str((node.data, \"\")))\n",
    "      node = node.next_node  \n",
    "    return \" --> \".join(node_values)\n",
    "\n",
    "if __name__ == \"__main__\":\n",
    "  # Init the linkedlist\n",
    "  LL = Linked_List()\n",
    "  \n",
    "  # Test traversing empty list\n",
    "  LL.list_print()\n",
    "\n",
    "  # Add node by value\n",
    "  LL.add_node_by_value(1)\n",
    "  LL.add_node_by_value(2)\n",
    "  LL.add_node_by_value(3)\n",
    "\n",
    "  # Add node by object\n",
    "  node_obj = Node(data=4)\n",
    "  LL.add_node_by_object(node_obj)\n",
    "\n",
    "  LL.list_print()\n",
    "  \n",
    "  # Print the string representation\n",
    "  print(LL.__repr__())\n",
    "  \n",
    "  # Delete front node\n",
    "  print \"Pop data\", LL.pop()\n",
    "  print(LL.__repr__())"
   ]
  },
  {
   "cell_type": "markdown",
   "metadata": {},
   "source": [
    "### Return k-th element from the end of the linked list"
   ]
  },
  {
   "cell_type": "code",
   "execution_count": 2,
   "metadata": {},
   "outputs": [
    {
     "name": "stdout",
     "output_type": "stream",
     "text": [
      "Linked List before:\n",
      "(9, 8) --> (8, 7) --> (7, 6) --> (6, 5) --> (5, 4) --> (4, 3) --> (3, 2) --> (2, 1) --> (1, 0) --> (0, '')\n",
      "Linked List after delete element 4:\n",
      "(9, 8) --> (8, 7) --> (7, 6) --> (6, 5) --> (5, 4) --> (4, 2) --> (2, 1) --> (1, 0) --> (0, '')\n"
     ]
    }
   ],
   "source": [
    "def k_from_end(linked_list, k):\n",
    "  \"\"\"\n",
    "  Input: Linked list object, k (int)\n",
    "  Output: K-th node from the end, assuming k>=1, k=1 for the last node of the list\n",
    "  \"\"\"\n",
    "  # Edge case values\n",
    "  if k <= 0 or not isinstance(k, int): return None\n",
    "  \n",
    "  front = linked_list.cur_node\n",
    "  rear = linked_list.cur_node\n",
    "  \n",
    "  # Advance rear node by k\n",
    "  for _ in range(k):\n",
    "    if rear.next_node is None:\n",
    "      return None\n",
    "    rear = rear.next_node\n",
    "  if rear.next_node is None:\n",
    "    return None\n",
    "  \n",
    "  # Now advance both node until rear reaches end\n",
    "  while rear:\n",
    "    front = front.next_node\n",
    "    rear = rear.next_node\n",
    "  return front\n",
    "\n",
    "def delete_node_from_end(linked_list, k):\n",
    "  node = k_from_end(linked_list, k+1)\n",
    "  node.next_node = node.next_node.next_node\n",
    "  \n",
    "if __name__ == \"__main__\":\n",
    "  LL = Linked_List()\n",
    "  for i in range(10):\n",
    "    LL.add_node_by_value(i)\n",
    "  print \"Linked List before:\\n\", LL.__repr__()\n",
    "  \n",
    "  to_delete = 4\n",
    "  delete_node_from_end(LL, to_delete)\n",
    "  print \"Linked List after delete element {}:\".format(to_delete)\n",
    "  print LL.__repr__()"
   ]
  },
  {
   "cell_type": "markdown",
   "metadata": {},
   "source": [
    "# Stack\n",
    "* Use native list as stack"
   ]
  },
  {
   "cell_type": "code",
   "execution_count": 3,
   "metadata": {},
   "outputs": [
    {
     "name": "stdout",
     "output_type": "stream",
     "text": [
      "['0', '1', '2', '3', '4']\n",
      "pop 4\n",
      "pop 3\n",
      "['0', '1', '2']\n"
     ]
    }
   ],
   "source": [
    "stack = []\n",
    "for i in range(5):\n",
    "  stack.append(str(i))\n",
    "print stack\n",
    "for _ in range(2):\n",
    "  print \"pop\", stack.pop()\n",
    "print stack"
   ]
  },
  {
   "cell_type": "markdown",
   "metadata": {},
   "source": [
    "* Wrap in an object\n",
    "* Add attribute to find the minimum element in the stack (note the dynamic nature of this value)"
   ]
  },
  {
   "cell_type": "code",
   "execution_count": 4,
   "metadata": {},
   "outputs": [
    {
     "name": "stdout",
     "output_type": "stream",
     "text": [
      "9 --> 4 --> 3 --> 5 --> 10\n",
      "Min value 3\n",
      "9 --> 4 --> 3 --> 5\n",
      "Min value 3\n",
      "9 --> 4 --> 3\n",
      "Min value 3\n",
      "9 --> 4\n",
      "Min value 4\n",
      "9\n",
      "Min value 9\n",
      "\n",
      "Min value None\n"
     ]
    }
   ],
   "source": [
    "import sys\n",
    "\n",
    "class NodeWithMin:\n",
    "  def __init__(self, value, minValue=sys.maxint):\n",
    "    self.value = value\n",
    "    self.minValue = minValue\n",
    "\n",
    "class Stack:\n",
    "  def __init__(self):\n",
    "    self.stack = []\n",
    "    \n",
    "  def push(self, data): # data as int\n",
    "    if not self.stack:\n",
    "      minValue = data\n",
    "    elif self.minValue() > data:\n",
    "      minValue = min(data, self.minValue)\n",
    "    else:\n",
    "      minValue = self.minValue()\n",
    "    \n",
    "    # Initialise the node with min value along with it\n",
    "    nodeWithMin = NodeWithMin(value = data, minValue=minValue)\n",
    "    self.stack.append(nodeWithMin)\n",
    "      \n",
    "  def pop(self):\n",
    "    if self.stack:\n",
    "      return self.stack.pop().value\n",
    "    else:\n",
    "      return None\n",
    "    \n",
    "  def top(self):\n",
    "    if self.stack:\n",
    "      return self.stack[-1].value\n",
    "    else:\n",
    "      return None\n",
    "    \n",
    "  def minValue(self):\n",
    "    if self.stack:\n",
    "      return self.stack[-1].minValue\n",
    "    else:\n",
    "      return None  # Empty stack\n",
    "    \n",
    "  def isEmpty(self):\n",
    "    return len(self.stack)==0\n",
    "  \n",
    "  def size(self):\n",
    "    return len(self.stack)\n",
    "    \n",
    "  def __repr__(self):\n",
    "    return \" --> \".join([str(node.value) for node in self.stack])\n",
    "      \n",
    "\n",
    "stack = Stack()\n",
    "examples = [9, 4, 3, 5, 10, 7]\n",
    "for i in examples:\n",
    "  stack.push(i)\n",
    "\n",
    "for i in range(len(examples)):\n",
    "  stack.pop()\n",
    "  print stack.__repr__()\n",
    "  print \"Min value\", stack.minValue()\n",
    "  "
   ]
  },
  {
   "cell_type": "markdown",
   "metadata": {},
   "source": [
    "* As a linked list (without \"peeking\" the item below top node)"
   ]
  },
  {
   "cell_type": "code",
   "execution_count": 5,
   "metadata": {},
   "outputs": [
    {
     "name": "stdout",
     "output_type": "stream",
     "text": [
      "('4', '3') --> ('3', '2') --> ('2', '1') --> ('1', '0') --> ('0', '')\n",
      "4\n",
      "3\n",
      "2\n",
      "('1', '0') --> ('0', '')\n"
     ]
    }
   ],
   "source": [
    "stack = Linked_List()\n",
    "for i in range(5):\n",
    "  stack.add_node_by_value(str(i))  # Push\n",
    "print(stack.__repr__())\n",
    "\n",
    "for _ in range(3):\n",
    "  print stack.pop() # Pop\n",
    "print(stack.__repr__())"
   ]
  },
  {
   "cell_type": "markdown",
   "metadata": {},
   "source": [
    "# Queue\n",
    "* Native solution [deque](https://docs.python.org/2/tutorial/datastructures.html)\n",
    "* Now implement a queue using two stacks:\n",
    "    * Stack: Last-In-First-Out\n",
    "    * Queue: First-In-First-Out"
   ]
  },
  {
   "cell_type": "code",
   "execution_count": 6,
   "metadata": {},
   "outputs": [
    {
     "name": "stdout",
     "output_type": "stream",
     "text": [
      "4\n",
      "3\n",
      "2\n",
      "5\n"
     ]
    }
   ],
   "source": [
    "class Stack_Based_Queue:\n",
    "  def __init__(self):\n",
    "    self.stackNewest = Stack()\n",
    "    self.stackOldest = Stack()\n",
    "  \n",
    "  def size(self):\n",
    "    return self.stackNewest.size() + self.stackOldest.size()\n",
    "  \n",
    "  def add(self, value):\n",
    "    self.stackNewest.push(value)\n",
    "    \n",
    "  def shiftStacks(self):\n",
    "    if self.stackOldest.isEmpty():\n",
    "      while not self.stackNewest.isEmpty():\n",
    "        self.stackOldest.push(self.stackNewest.pop())\n",
    "    \n",
    "  def peek(self):\n",
    "    self.shiftStacks() # Ensure the oldest has current elements\n",
    "    return self.stackOldest.top()  # Only show the value but not pop\n",
    "    \n",
    "  def remove(self):\n",
    "    self.shiftStacks()\n",
    "    return self.stackOldest.pop()\n",
    "  \n",
    "  def isEmpty(self):\n",
    "    return self.size()==0\n",
    "\n",
    "if __name__ == \"__main__\":\n",
    "  queue = Stack_Based_Queue()\n",
    "  assert(queue.isEmpty()==True)\n",
    "  for i in [4, 3, 2, 5]:\n",
    "    queue.add(i)\n",
    "\n",
    "  assert(queue.size()==4)\n",
    "  assert(queue.isEmpty()==False)\n",
    "  for _ in range(4):\n",
    "    print queue.remove()\n",
    "\n",
    "  assert(queue.isEmpty()==True)"
   ]
  },
  {
   "cell_type": "markdown",
   "metadata": {},
   "source": [
    "# Binary Seach Tree"
   ]
  },
  {
   "cell_type": "code",
   "execution_count": 7,
   "metadata": {},
   "outputs": [
    {
     "name": "stdout",
     "output_type": "stream",
     "text": [
      "1\n",
      "3\n",
      "5\n",
      "7\n"
     ]
    }
   ],
   "source": [
    "class BST_Node:\n",
    "  def __init__(self,value):\n",
    "    self.value = value\n",
    "    self.left = None\n",
    "    self.right = None # Left and right child\n",
    "\n",
    "# TODO: convert to an object later. \n",
    "def BST_insert(root, node):\n",
    "  if root is None:\n",
    "    root=node\n",
    "  else:\n",
    "    if node.value > root.value:\n",
    "      if root.right is None:\n",
    "        root.right = node\n",
    "      else:\n",
    "        BST_insert(root.right, node)\n",
    "    else:\n",
    "      if root.left is None:\n",
    "        root.left = node\n",
    "      else:\n",
    "        BST_insert(root.left, node)\n",
    "\n",
    "def in_order_traverse(root):\n",
    "  if root is None:\n",
    "    return\n",
    "  in_order_traverse(root.left)\n",
    "  print root.value\n",
    "  in_order_traverse(root.right)\n",
    "\n",
    "if __name__ == \"__main__\":\n",
    "  r = BST_Node(3)\n",
    "  BST_insert(r, BST_Node(7))\n",
    "  BST_insert(r, BST_Node(1))\n",
    "  BST_insert(r, BST_Node(5))\n",
    "  in_order_traverse(r)"
   ]
  },
  {
   "cell_type": "code",
   "execution_count": null,
   "metadata": {
    "collapsed": true
   },
   "outputs": [],
   "source": []
  }
 ],
 "metadata": {
  "kernelspec": {
   "display_name": "Python 3",
   "language": "python",
   "name": "python3"
  },
  "language_info": {
   "codemirror_mode": {
    "name": "ipython",
    "version": 3
   },
   "file_extension": ".py",
   "mimetype": "text/x-python",
   "name": "python",
   "nbconvert_exporter": "python",
   "pygments_lexer": "ipython3",
   "version": "3.6.3"
  }
 },
 "nbformat": 4,
 "nbformat_minor": 2
}
