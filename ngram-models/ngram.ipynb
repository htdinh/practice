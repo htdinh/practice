{
 "cells": [
  {
   "cell_type": "markdown",
   "id": "3407c155-6b71-42d0-984a-ab767df10a76",
   "metadata": {},
   "source": [
    "# Things I have learned in this project\n",
    "* At the typing declaration -> use Tuple[str] instead of Tuple(str) -> not an object call\n",
    "* Tuple declaration: (\"hello\"), (\"hello\",) --> 'hello', ('hello',)\n",
    "* Usage of CTRL symbols (tokens) in tokenization\n",
    "* Abstraction of tasks in increasing level of complexity. Reuse simpler functions. Break down complex function into more manageable tasks.\n",
    "* Add unittests on those manageable tasks, as far as possible\n",
    "* Apply on VNExpress dataset -> easier to understand the result. A nice adaptation. "
   ]
  },
  {
   "cell_type": "code",
   "execution_count": 1,
   "id": "ba5bab8f-fbbc-44e8-814b-2c036e8326b3",
   "metadata": {},
   "outputs": [],
   "source": [
    "from typing import List, Tuple, Dict\n",
    "import unittest\n",
    "from collections import defaultdict\n",
    "from common_utils import *\n",
    "\n",
    "TOKENS = [\"hello\", \"world\", \"!\"]"
   ]
  },
  {
   "cell_type": "code",
   "execution_count": 2,
   "id": "27bb744d-7276-4db4-b74d-4c89e7ea88d6",
   "metadata": {},
   "outputs": [],
   "source": [
    "test_cases_1 = [(\n",
    "    {\n",
    "        \"tokens\": TOKENS,\n",
    "        \"n\": 2\n",
    "    }, \n",
    "    [(\"hello\", \"world\"), (\"world\", \"!\")]),\n",
    "              (\n",
    "    {\n",
    "        \"tokens\": TOKENS,\n",
    "        \"n\": 1\n",
    "    }, \n",
    "    [(\"hello\", ), (\"world\", ), (\"!\",)])] # This is different from (\"hello\"), (\"hello\",) --> 'hello', ('hello',)\n",
    "\n",
    "def test_assertion(func, test_cases):\n",
    "    for args, expected_result in test_cases:\n",
    "        assert func(**args) == expected_result, f\"{func(**args)}, {expected_result}\"\n",
    "\n",
    "test_assertion(build_basic_ngram, test_cases_1)"
   ]
  },
  {
   "cell_type": "markdown",
   "id": "f2d75017-5a86-4979-bc97-173f0b86c90c",
   "metadata": {},
   "source": [
    "# Adding control characters BOS, EOS"
   ]
  },
  {
   "cell_type": "code",
   "execution_count": 3,
   "id": "b4999390-0023-44e8-848a-a6789ac41e29",
   "metadata": {},
   "outputs": [],
   "source": [
    "test_cases_2 = [(\n",
    "    {\n",
    "        \"tokens\":[\"hello\", \"world\", \"!\"],\n",
    "        \"n\": 2\n",
    "    }, \n",
    "    [(BOS, \"hello\"), (\"hello\", \"world\"), (\"world\", \"!\"), (\"!\", EOS)])]\n",
    "test_assertion(func=build_ngrams_ctrl, test_cases=test_cases_2)"
   ]
  },
  {
   "cell_type": "markdown",
   "id": "28870ef6-6c2f-4ac4-b074-a674d54234b7",
   "metadata": {},
   "source": [
    "# Count ngram frequency -> Build the model"
   ]
  },
  {
   "cell_type": "code",
   "execution_count": 2,
   "id": "debd3c77-7ca7-46cc-bfbe-9d65d048a428",
   "metadata": {},
   "outputs": [
    {
     "data": {
      "text/plain": [
       "{('<BOS>', '<BOS>'): defaultdict(int, {'hello': 3}),\n",
       " ('<BOS>', 'hello'): defaultdict(int, {'world': 3}),\n",
       " ('hello', 'world'): defaultdict(int, {'!': 3}),\n",
       " ('world', '!'): defaultdict(int, {'<EOS>': 3}),\n",
       " ('!', '<EOS>'): defaultdict(int, {'<EOS>': 3})}"
      ]
     },
     "execution_count": 2,
     "metadata": {},
     "output_type": "execute_result"
    }
   ],
   "source": [
    "count_frequencies(texts=[TOKENS] * 3, n=3)"
   ]
  },
  {
   "cell_type": "code",
   "execution_count": 6,
   "id": "fa992a6b-5dc6-4cad-a7db-d781302d1e15",
   "metadata": {},
   "outputs": [
    {
     "data": {
      "text/plain": [
       "[['hello', 'world', '!'], ['hello', 'world', '!'], ['hello', 'world', '!']]"
      ]
     },
     "execution_count": 6,
     "metadata": {},
     "output_type": "execute_result"
    }
   ],
   "source": [
    "[TOKENS] * 3"
   ]
  },
  {
   "cell_type": "code",
   "execution_count": 2,
   "id": "0fc69d08-6b77-4cc6-9fab-118486f52ed1",
   "metadata": {},
   "outputs": [
    {
     "name": "stdout",
     "output_type": "stream",
     "text": [
      "context=('<BOS>', '<BOS>'), token=hello\n",
      "context=('<BOS>', 'hello'), token=world\n",
      "context=('hello', 'world'), token=!\n",
      "context=('world', '!'), token=hello\n",
      "context=('!', 'hello'), token=world\n",
      "context=('hello', 'world'), token=!\n",
      "context=('world', '!'), token=hello\n",
      "context=('!', 'hello'), token=world\n",
      "context=('hello', 'world'), token=!\n",
      "context=('world', '!'), token=<EOS>\n",
      "context=('!', '<EOS>'), token=<EOS>\n"
     ]
    }
   ],
   "source": [
    "model = build_ngram_model(texts=[TOKENS*3], n=3, verbose=True)"
   ]
  },
  {
   "cell_type": "code",
   "execution_count": 6,
   "id": "0e8ce655-2854-4257-8430-4ac972025ffb",
   "metadata": {},
   "outputs": [
    {
     "name": "stdout",
     "output_type": "stream",
     "text": [
      "topic = suc-khoe\n",
      "Loaded 50 articles\n",
      "topic = khoa-hoc\n",
      "Loaded 37 articles\n",
      "topic = so-hoa\n",
      "Loaded 43 articles\n",
      "topic = the-gioi\n",
      "Loaded 47 articles\n",
      "topic = phap-luat\n",
      "Loaded 47 articles\n",
      "topic = du-lich\n",
      "Loaded 38 articles\n",
      "topic = giai-tri\n",
      "Loaded 47 articles\n",
      "topic = kinh-doanh\n",
      "Loaded 50 articles\n",
      "topic = thoi-su\n",
      "Loaded 38 articles\n",
      "topic = giao-duc\n",
      "Loaded 38 articles\n",
      "topic = the-thao\n",
      "Loaded 43 articles\n"
     ]
    }
   ],
   "source": [
    "from data_loader import get_vn_express_dataset\n",
    "data = get_vn_express_dataset()"
   ]
  },
  {
   "cell_type": "markdown",
   "id": "cbc5f9a1-fe80-46da-b726-46bc10653641",
   "metadata": {},
   "source": [
    "# Fit the model on VN Express dataset"
   ]
  },
  {
   "cell_type": "code",
   "execution_count": 7,
   "id": "76aa9f1e-e71e-44d5-b8b3-e2bfdeea0662",
   "metadata": {},
   "outputs": [],
   "source": [
    "model_vnexpress = build_ngram_model(texts=data, n=3, verbose=False)"
   ]
  },
  {
   "cell_type": "code",
   "execution_count": 8,
   "id": "a591accc-364e-4d51-9766-44e316ce36bf",
   "metadata": {},
   "outputs": [
    {
     "data": {
      "text/plain": [
       "[('cho', 0.42857142857142855),\n",
       " ('Covid-19', 0.14285714285714285),\n",
       " ('hàng', 0.14285714285714285),\n",
       " ('vaccine', 0.14285714285714285),\n",
       " ('đầy', 0.14285714285714285)]"
      ]
     },
     "execution_count": 8,
     "metadata": {},
     "output_type": "execute_result"
    }
   ],
   "source": [
    "ans = model_vnexpress[('tiêm', 'phòng')]\n",
    "sorted(ans.items(), key=lambda x:x[1], reverse=True)"
   ]
  },
  {
   "cell_type": "code",
   "execution_count": null,
   "id": "7fadc9ae-8bc8-4cc9-bacb-57a8931a829d",
   "metadata": {},
   "outputs": [],
   "source": []
  }
 ],
 "metadata": {
  "kernelspec": {
   "display_name": "Python 3 (ipykernel)",
   "language": "python",
   "name": "python3"
  },
  "language_info": {
   "codemirror_mode": {
    "name": "ipython",
    "version": 3
   },
   "file_extension": ".py",
   "mimetype": "text/x-python",
   "name": "python",
   "nbconvert_exporter": "python",
   "pygments_lexer": "ipython3",
   "version": "3.11.6"
  }
 },
 "nbformat": 4,
 "nbformat_minor": 5
}
